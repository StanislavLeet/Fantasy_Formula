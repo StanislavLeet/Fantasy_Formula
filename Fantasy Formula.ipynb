{
 "cells": [
  {
   "cell_type": "code",
   "execution_count": 1,
   "metadata": {},
   "outputs": [],
   "source": [
    "import pandas as pd\n",
    "import numpy as np\n",
    "from tqdm.auto import tqdm"
   ]
  },
  {
   "cell_type": "code",
   "execution_count": 2,
   "metadata": {},
   "outputs": [],
   "source": [
    "drivers = ['L. Hamilton', 'M. Verstappen', 'L. Norris', 'C. Leclerc',\n",
    "           'V. Bottas', 'C. Saintz J.', 'D. Riccardo', 'S. Perez',\n",
    "           'P. Gasly', 'L. Stroll', 'Y. Tsunoda', 'E. Ocon',\n",
    "           'F. Alonso', 'K. Raikkonen', 'A. Giovinazzi', 'G. Russel',\n",
    "           'S. Vettel', 'M. Schumacher', 'N. Mazepin', 'N. Latifi']\n",
    "\n",
    "teams = ['Mercedes', 'Red Bull', 'Ferrari',\n",
    "         'McLaren', 'Aston Martin', 'Alpine',\n",
    "         'AlphaTauri', 'Alfa Romeo', 'Williams',\n",
    "         'Haas']\n",
    "\n",
    "basic_drivers = dict()\n",
    "for driver in drivers:\n",
    "    basic_drivers[driver] = dict()\n",
    "    basic_drivers[driver]['score'] = 0.0\n",
    "    \n",
    "    \n",
    "basic_drivers['L. Hamilton']['Team'] = 'Mercedes'\n",
    "basic_drivers['M. Verstappen']['Team'] = 'Red Bull'\n",
    "basic_drivers['L. Norris']['Team'] = 'McLaren'\n",
    "basic_drivers['C. Leclerc']['Team'] = 'Ferrari'\n",
    "basic_drivers['V. Bottas']['Team'] = 'Mercedes'\n",
    "\n",
    "\n",
    "basic_drivers['C. Saintz J.']['Team'] = 'Ferrari'\n",
    "basic_drivers['D. Riccardo']['Team'] = 'McLaren'\n",
    "basic_drivers['S. Perez']['Team'] = 'Red Bull'\n",
    "basic_drivers['P. Gasly']['Team'] = 'AlphaTauri'\n",
    "basic_drivers['L. Stroll']['Team'] = 'Aston Martin'\n",
    "\n",
    "\n",
    "basic_drivers['Y. Tsunoda']['Team'] = 'AlphaTauri'\n",
    "basic_drivers['E. Ocon']['Team'] = 'Alpine'\n",
    "basic_drivers['F. Alonso']['Team'] = 'Alpine'\n",
    "basic_drivers['K. Raikkonen']['Team'] = 'Alfa Romeo'\n",
    "basic_drivers['A. Giovinazzi']['Team'] = 'Alfa Romeo'\n",
    "\n",
    "\n",
    "basic_drivers['G. Russel']['Team'] = 'Williams'\n",
    "basic_drivers['S. Vettel']['Team'] = 'Aston Martin'\n",
    "basic_drivers['M. Schumacher']['Team'] = 'Haas'\n",
    "basic_drivers['N. Mazepin']['Team'] = 'Haas'\n",
    "basic_drivers['N. Latifi']['Team'] = 'Williams'\n",
    "\n",
    "\n",
    "basic_team = dict()\n",
    "for team in teams:\n",
    "    basic_team[team] = dict()\n",
    "    basic_team[team]['score'] = 0.0\n",
    "    \n",
    "    \n",
    "basic_team['Mercedes']['drivers'] = ['L. Hamilton', 'V. Bottas']\n",
    "basic_team['Red Bull']['drivers'] = ['M. Verstappen', 'S. Perez']\n",
    "basic_team['Ferrari']['drivers'] = ['C. Leclerc', 'C. Saintz J.']\n",
    "basic_team['McLaren']['drivers'] = ['L. Norris', 'D. Riccardo']\n",
    "basic_team['Aston Martin']['drivers'] = ['L. Stroll', 'S. Vettel']\n",
    "\n",
    "\n",
    "basic_team['Alpine']['drivers'] = ['E. Ocon', 'F. Alonso']\n",
    "basic_team['AlphaTauri']['drivers'] = ['P. Gasly', 'Y. Tsunoda']\n",
    "basic_team['Alfa Romeo']['drivers'] = ['K. Raikkonen', 'A. Giovinazzi']\n",
    "basic_team['Williams']['drivers'] = ['G. Russel', 'N. Latifi']\n",
    "basic_team['Haas']['drivers'] = ['M. Schumacher', 'N. Mazepin']"
   ]
  },
  {
   "cell_type": "code",
   "execution_count": 3,
   "metadata": {},
   "outputs": [],
   "source": [
    "basic_drivers['L. Hamilton']['cost'] = 33.4\n",
    "basic_drivers['M. Verstappen']['cost'] = 25.2\n",
    "basic_drivers['L. Norris']['cost'] = 13.5\n",
    "basic_drivers['C. Leclerc']['cost'] = 17.6\n",
    "basic_drivers['V. Bottas']['cost'] = 23.4\n",
    "\n",
    "\n",
    "basic_drivers['C. Saintz J.']['cost'] = 14.3\n",
    "basic_drivers['D. Riccardo']['cost'] = 16.6\n",
    "basic_drivers['S. Perez']['cost'] = 18.4\n",
    "basic_drivers['P. Gasly']['cost'] = 11.7\n",
    "basic_drivers['L. Stroll']['cost'] = 13.6\n",
    "\n",
    "\n",
    "basic_drivers['Y. Tsunoda']['cost'] = 9.4\n",
    "basic_drivers['E. Ocon']['cost'] = 9.7\n",
    "basic_drivers['F. Alonso']['cost'] = 15.1\n",
    "basic_drivers['K. Raikkonen']['cost'] = 9.4\n",
    "basic_drivers['A. Giovinazzi']['cost'] = 7.8\n",
    "\n",
    "\n",
    "basic_drivers['G. Russel']['cost'] = 6.2\n",
    "basic_drivers['S. Vettel']['cost'] = 15.3\n",
    "basic_drivers['M. Schumacher']['cost'] = 5.7\n",
    "basic_drivers['N. Mazepin']['cost'] = 5.3\n",
    "basic_drivers['N. Latifi']['cost'] = 6.5"
   ]
  },
  {
   "cell_type": "code",
   "execution_count": 4,
   "metadata": {},
   "outputs": [],
   "source": [
    "basic_drivers['L. Hamilton']['cost'] = 33.4\n",
    "basic_drivers['M. Verstappen']['cost'] = 25.2\n",
    "basic_drivers['L. Norris']['cost'] = 13.5\n",
    "basic_drivers['C. Leclerc']['cost'] = 17.6\n",
    "basic_drivers['V. Bottas']['cost'] = 23.4\n",
    "\n",
    "\n",
    "basic_drivers['C. Saintz J.']['cost'] = 14.3\n",
    "basic_drivers['D. Riccardo']['cost'] = 16.6\n",
    "basic_drivers['S. Perez']['cost'] = 18.4\n",
    "basic_drivers['P. Gasly']['cost'] = 11.7\n",
    "basic_drivers['L. Stroll']['cost'] = 13.6\n",
    "\n",
    "\n",
    "basic_drivers['Y. Tsunoda']['cost'] = 9.4\n",
    "basic_drivers['E. Ocon']['cost'] = 9.7\n",
    "basic_drivers['F. Alonso']['cost'] = 15.1\n",
    "basic_drivers['K. Raikkonen']['cost'] = 9.4\n",
    "basic_drivers['A. Giovinazzi']['cost'] = 7.8\n",
    "\n",
    "\n",
    "basic_drivers['G. Russel']['cost'] = 6.2\n",
    "basic_drivers['S. Vettel']['cost'] = 15.3\n",
    "basic_drivers['M. Schumacher']['cost'] = 5.7\n",
    "basic_drivers['N. Mazepin']['cost'] = 5.3\n",
    "basic_drivers['N. Latifi']['cost'] = 6.5\n",
    "\n",
    "\n",
    "\n",
    "\n",
    "\n",
    "\n",
    "basic_team['Mercedes']['cost'] = 37.7\n",
    "basic_team['Red Bull']['cost'] = 26.1\n",
    "basic_team['Ferrari']['cost'] = 18.8\n",
    "basic_team['McLaren']['cost'] = 18.7\n",
    "basic_team['Aston Martin']['cost'] = 16.8\n",
    "\n",
    "\n",
    "basic_team['Alpine']['cost'] = 15.0\n",
    "basic_team['AlphaTauri']['cost'] = 13.2\n",
    "basic_team['Alfa Romeo']['cost'] = 8.9\n",
    "basic_team['Williams']['cost'] = 6.3\n",
    "basic_team['Haas']['cost'] = 6.1"
   ]
  },
  {
   "cell_type": "code",
   "execution_count": 5,
   "metadata": {},
   "outputs": [],
   "source": [
    "predict_order = ['M. Verstappen', 'V. Bottas', 'L. Hamilton', 'P. Gasly', \n",
    "                 'C. Leclerc', 'C. Saintz J.', 'L. Norris', 'S. Perez',\n",
    "                 'Y. Tsunoda', 'F. Alonso', 'L. Stroll', 'A. Giovinazzi',\n",
    "                 'N. Latifi', 'D. Riccardo', 'E. Ocon', 'G. Russel', \n",
    "                 'K. Raikkonen', 'S. Vettel', 'M. Schumacher', 'N. Mazepin']"
   ]
  },
  {
   "cell_type": "markdown",
   "metadata": {},
   "source": [
    "- Q1 Finish\n",
    "- Q2 Finish\n",
    "- Q3 Finish\n",
    "\n",
    "- Qualified ahead of team mate (driver only)\n",
    "\n",
    "- Did not qualify (driver only) (руками)\n",
    "\n",
    "- Qualifying Position Bonuses\n",
    "\n",
    "- Finished Race (нужно уточнить как реализовать) \n",
    "\n",
    "- Finished race, position gained (per place gained, max. +10 pts) (нужно добавить количество и, желательно, потенциальные места сходов) \n",
    "\n",
    "- Finished ahead of team mate (driver only)\n",
    "\n",
    "- Fastest lap (driver only) - распределять между 5 пилотами (1, 1, 1, 0.5, 0.5)\n",
    "\n",
    "- Started race within Top 10, finished race but lost position (per place lost, max. -10 pts) (пока оставим симметрию)\n",
    "\n",
    "- Started race outside Top 10, finished race but lost position (per place lost, max. -5 pts) (пока оставим симметрию)\n",
    "\n",
    "- Not classified (driver only) (руками)\n",
    "\n",
    "- Finishing Position Bonuses \n",
    "\n",
    "- Driver Qualifying - driver qualifies in Top 10 for 5 races in a row (руками)\n",
    "\n",
    "- Driver Race - driver finishes race in Top 10 for 5 races in a row (руками)\n",
    "\n",
    "- Constructor Qualifying - both drivers qualify in Top 10 for 3 races in a row (руками)\n",
    "\n",
    "- Constructor Race - both drivers finish race in Top 10 for 3 races in a row\n",
    "\n",
    "\n",
    "\n",
    "- Turbo Driver"
   ]
  },
  {
   "cell_type": "markdown",
   "metadata": {},
   "source": [
    "# 1. Q1, Q2, Q3"
   ]
  },
  {
   "cell_type": "code",
   "execution_count": 6,
   "metadata": {},
   "outputs": [],
   "source": [
    "for i in range(8):\n",
    "    basic_drivers[predict_order[i]]['score'] += 3.0\n",
    "    basic_team[basic_drivers[predict_order[i]]['Team']]['score'] += 3.0\n",
    "    \n",
    "for i in range(17, 20):\n",
    "    basic_drivers[predict_order[i]]['score'] += 1.0\n",
    "    basic_team[basic_drivers[predict_order[i]]['Team']]['score'] += 1.0\n",
    "\n",
    "    \n",
    "basic_drivers[predict_order[8]]['score'] += (3 + 3 + 3 + 3 + 2) / 5\n",
    "basic_team[basic_drivers[predict_order[8]]['Team']]['score'] += (3 + 3 + 3 + 3 + 2) / 5\n",
    "\n",
    "basic_drivers[predict_order[9]]['score'] += (3 + 3 + 3 + 2 + 2) / 5\n",
    "basic_team[basic_drivers[predict_order[9]]['Team']]['score'] += (3 + 3 + 3 + 2 + 2) / 5\n",
    "\n",
    "basic_drivers[predict_order[10]]['score'] += (3 + 3 + 3 + 2 + 2 + 2 + 2) / 7\n",
    "basic_team[basic_drivers[predict_order[10]]['Team']]['score'] += (3 + 3 + 3 + 2 + 2 + 2 + 2) / 7\n",
    "\n",
    "basic_drivers[predict_order[11]]['score'] += (3 + 3 + 2 + 2 + 2 + 2 + 2) / 7\n",
    "basic_team[basic_drivers[predict_order[11]]['Team']]['score'] += (3 + 3 + 2 + 2 + 2 + 2 + 2) / 7\n",
    "\n",
    "basic_drivers[predict_order[12]]['score'] += (3 + 2 + 2 + 2 + 2 + 2 + 1) / 7\n",
    "basic_team[basic_drivers[predict_order[12]]['Team']]['score'] += (3 + 2 + 2 + 2 + 2 + 2 + 1) / 7\n",
    "\n",
    "basic_drivers[predict_order[13]]['score'] += (2 + 2 + 2 + 2 + 2 + 1 + 1) / 7\n",
    "basic_team[basic_drivers[predict_order[13]]['Team']]['score'] += (2 + 2 + 2 + 2 + 2 + 1 + 1) / 7\n",
    "\n",
    "basic_drivers[predict_order[14]]['score'] += (2 + 2 + 2 + 2 + 1 + 1 + 1) / 7\n",
    "basic_team[basic_drivers[predict_order[14]]['Team']]['score'] += (2 + 2 + 2 + 2 + 1 + 1 + 1) / 7\n",
    "\n",
    "basic_drivers[predict_order[15]]['score'] += (2 + 2 + 1 + 1 + 1 + 1) / 6\n",
    "basic_team[basic_drivers[predict_order[15]]['Team']]['score'] += (2 + 2 + 1 + 1 + 1 + 1) / 6\n",
    "\n",
    "basic_drivers[predict_order[16]]['score'] += (2 + 1 + 1 + 1 + 1 + 1) / 6\n",
    "basic_team[basic_drivers[predict_order[16]]['Team']]['score'] += (2 + 1 + 1 + 1 + 1 + 1) / 6"
   ]
  },
  {
   "cell_type": "code",
   "execution_count": null,
   "metadata": {},
   "outputs": [],
   "source": []
  },
  {
   "cell_type": "markdown",
   "metadata": {},
   "source": [
    "# 2. Qualified ahead of team mate (driver only)"
   ]
  },
  {
   "cell_type": "code",
   "execution_count": 7,
   "metadata": {},
   "outputs": [],
   "source": [
    "def calc_prob_of_q_ahead(first_driver_place,\n",
    "                         second_driver_place):\n",
    "    \"\"\"\n",
    "    \n",
    "    \"\"\"\n",
    "    \n",
    "    first_places = potential_places[first_driver_place]\n",
    "    second_places = potential_places[second_driver_place]\n",
    "\n",
    "    general_positions = list()\n",
    "\n",
    "    for val1 in first_places:\n",
    "        for val2 in second_places:\n",
    "            general_positions.append((val1, val2))\n",
    "            \n",
    "            \n",
    "    if first_driver_place < second_driver_place:\n",
    "        return sum([1.0 for (val1, val2) in general_positions if val1 <= val2]) / len(general_positions)\n",
    "    else:\n",
    "        return sum([1.0 for (val1, val2) in general_positions if val1 < val2]) / len(general_positions)"
   ]
  },
  {
   "cell_type": "code",
   "execution_count": 8,
   "metadata": {},
   "outputs": [],
   "source": [
    "potential_places = [[1, 2]]\n",
    "for i in range(1, 5):\n",
    "    potential_places.append([i, i + 1, i + 2])\n",
    "    \n",
    "for i in range(5, 10):\n",
    "    potential_places.append([i - 1, i,  i + 1, i + 2, i + 3])\n",
    "    \n",
    "    \n",
    "for i in range(10, 15):\n",
    "    potential_places.append([i - 2, i - 1, i,  i + 1, i + 2, i + 3, i + 4])\n",
    "    \n",
    "    \n",
    "for i in range(15, 20):\n",
    "    vals = [i - 1, i,  i + 1, i + 2, i + 3, i + 4] \n",
    "    vals = [val for val in vals if val <= 20.0]\n",
    "    potential_places.append(vals)"
   ]
  },
  {
   "cell_type": "code",
   "execution_count": 9,
   "metadata": {},
   "outputs": [],
   "source": [
    "for i, driver in enumerate(predict_order):\n",
    "    team_name = basic_drivers[driver]['Team']\n",
    "    team_mate = [val for val in basic_team[team_name]['drivers'] if val != driver][0]\n",
    "    place = [i for i, val in enumerate(predict_order) if team_mate == val][0]\n",
    "    \n",
    "    basic_drivers[driver]['score'] += calc_prob_of_q_ahead(i, place) * 2"
   ]
  },
  {
   "cell_type": "code",
   "execution_count": null,
   "metadata": {},
   "outputs": [],
   "source": []
  },
  {
   "cell_type": "code",
   "execution_count": null,
   "metadata": {},
   "outputs": [],
   "source": []
  },
  {
   "cell_type": "code",
   "execution_count": null,
   "metadata": {},
   "outputs": [],
   "source": []
  },
  {
   "cell_type": "markdown",
   "metadata": {},
   "source": [
    "# 3. Did not qualify (driver only) (руками)"
   ]
  },
  {
   "cell_type": "code",
   "execution_count": 10,
   "metadata": {},
   "outputs": [],
   "source": [
    "basic_drivers['Y. Tsunoda']['score'] -= 0.25\n",
    "basic_drivers['M. Schumacher']['score'] -= 0.25\n",
    "basic_drivers['N. Mazepin']['score'] -= 0.25"
   ]
  },
  {
   "cell_type": "code",
   "execution_count": null,
   "metadata": {},
   "outputs": [],
   "source": []
  },
  {
   "cell_type": "markdown",
   "metadata": {},
   "source": [
    "# 4. Qualifying Position Bonuses"
   ]
  },
  {
   "cell_type": "code",
   "execution_count": 11,
   "metadata": {},
   "outputs": [],
   "source": [
    "scores = [max(10 - i, 0) for i in range(20)]\n",
    "\n",
    "\n",
    "basic_drivers[predict_order[0]]['score'] += 9.5\n",
    "basic_team[basic_drivers[predict_order[0]]['Team']]['score'] += 9.5\n",
    "\n",
    "for i in range(1, 9):\n",
    "    basic_drivers[predict_order[i]]['score'] += 10 - i\n",
    "    basic_team[basic_drivers[predict_order[i]]['Team']]['score'] += 10 - i\n",
    "    \n",
    "    \n",
    "basic_drivers[predict_order[9]]['score'] += 1.2\n",
    "basic_team[basic_drivers[predict_order[9]]['Team']]['score'] += 1.2\n",
    "\n",
    "basic_drivers[predict_order[10]]['score'] += 0.75\n",
    "basic_team[basic_drivers[predict_order[10]]['Team']]['score'] += 0.75\n",
    "\n",
    "basic_drivers[predict_order[11]]['score'] += 0.375\n",
    "basic_team[basic_drivers[predict_order[11]]['Team']]['score'] += 0.375\n",
    "\n",
    "\n",
    "basic_drivers[predict_order[12]]['score'] += 0.125\n",
    "basic_team[basic_drivers[predict_order[12]]['Team']]['score'] += 0.125"
   ]
  },
  {
   "cell_type": "code",
   "execution_count": null,
   "metadata": {},
   "outputs": [],
   "source": []
  },
  {
   "cell_type": "markdown",
   "metadata": {},
   "source": [
    "# 5. Finished Race  (руками)"
   ]
  },
  {
   "cell_type": "code",
   "execution_count": 12,
   "metadata": {},
   "outputs": [],
   "source": [
    "# нужны предположения что кто-то может не финишировать\n",
    "\n",
    "for driver in basic_drivers:\n",
    "    basic_drivers[driver]['score'] += 1.0\n",
    "    \n",
    "    \n",
    "for team in basic_team:\n",
    "    basic_team[team]['score'] += 2.0"
   ]
  },
  {
   "cell_type": "code",
   "execution_count": null,
   "metadata": {},
   "outputs": [],
   "source": []
  },
  {
   "cell_type": "markdown",
   "metadata": {},
   "source": [
    "# 7. Finished ahead of team mate (driver only) (проверить размеры интервалов)"
   ]
  },
  {
   "cell_type": "code",
   "execution_count": 13,
   "metadata": {},
   "outputs": [],
   "source": [
    "potential_places = [[1, 2, 3]]\n",
    "potential_places.append([1, 2, 3, 4])\n",
    "for i in range(2, 5):\n",
    "    potential_places.append([i - 1, i, i + 1, i + 2, i + 3])\n",
    "    \n",
    "for i in range(5, 10):\n",
    "    potential_places.append([i - 2, i - 1, i,  i + 1, i + 2, i + 3, i + 4])\n",
    "    \n",
    "    \n",
    "for i in range(10, 15):\n",
    "    potential_places.append([i - 3, i - 2, i - 1, i,  i + 1, i + 2, i + 3, i + 4, i + 5])\n",
    "    \n",
    "    \n",
    "for i in range(15, 20):\n",
    "    vals = [i - 2, i - 1, i,  i + 1, i + 2, i + 3, i + 4, i + 5] \n",
    "    vals = [val for val in vals if val <= 20.0]\n",
    "    potential_places.append(vals)"
   ]
  },
  {
   "cell_type": "code",
   "execution_count": 14,
   "metadata": {},
   "outputs": [],
   "source": [
    "for i, driver in enumerate(predict_order):\n",
    "    team_name = basic_drivers[driver]['Team']\n",
    "    team_mate = [val for val in basic_team[team_name]['drivers'] if val != driver][0]\n",
    "    place = [i for i, val in enumerate(predict_order) if team_mate == val][0]\n",
    "    \n",
    "    basic_drivers[driver]['score'] += calc_prob_of_q_ahead(i, place) * 3"
   ]
  },
  {
   "cell_type": "code",
   "execution_count": null,
   "metadata": {},
   "outputs": [],
   "source": []
  },
  {
   "cell_type": "markdown",
   "metadata": {},
   "source": [
    "# 8. Fastest lap (driver only) (руками)"
   ]
  },
  {
   "cell_type": "code",
   "execution_count": 15,
   "metadata": {},
   "outputs": [],
   "source": [
    "basic_drivers['L. Hamilton']['score'] += 5 * (9 / 17)\n",
    "basic_drivers['V. Bottas']['score'] += 5 * (9 / 17)\n",
    "\n",
    "basic_drivers['M. Verstappen']['score'] += 5 * (3 / 17)\n",
    "basic_drivers['S. Perez']['score'] += 5 * (3 / 17)\n",
    "\n",
    "basic_drivers['L. Norris']['score'] += 5 * (3 / 17)\n",
    "basic_drivers['D. Riccardo']['score'] += 5 * (3 / 17)\n",
    "\n",
    "basic_drivers['E. Ocon']['score'] += 5 * (1 / 17)\n",
    "basic_drivers['F. Alonso']['score'] += 5 * (1 / 17)\n",
    "\n",
    "basic_drivers['C. Leclerc']['score'] += 5 * (1 / 17)\n",
    "basic_drivers['C. Saintz J.']['score'] += 5 * (1 / 17)"
   ]
  },
  {
   "cell_type": "code",
   "execution_count": null,
   "metadata": {},
   "outputs": [],
   "source": []
  },
  {
   "cell_type": "markdown",
   "metadata": {},
   "source": [
    "# 6. Finished race, position gained (per place gained, max. +10 pts) (Добавить сходы)"
   ]
  },
  {
   "cell_type": "markdown",
   "metadata": {},
   "source": [
    "# 9. Started race within Top 10, finished race but lost position (per place lost, max. -10 pts)"
   ]
  },
  {
   "cell_type": "markdown",
   "metadata": {},
   "source": [
    "# 10. Started race outside Top 10, finished race but lost position (per place lost, max. -5 pts)"
   ]
  },
  {
   "cell_type": "code",
   "execution_count": null,
   "metadata": {},
   "outputs": [],
   "source": []
  },
  {
   "cell_type": "code",
   "execution_count": 16,
   "metadata": {},
   "outputs": [],
   "source": [
    "potential_dnf = ['Alfa Romeo', 'Williams', 'Haas']\n",
    "dnf_places = []\n",
    "for team_ in potential_dnf:\n",
    "    for driver in basic_team[team_]['drivers']:\n",
    "        dnf_places.append([i for i, val in enumerate(predict_order) if val == driver][0])\n",
    "        \n",
    "        \n",
    "dnf_places = sorted(dnf_places)\n",
    "dnf_places = np.array(dnf_places)"
   ]
  },
  {
   "cell_type": "code",
   "execution_count": 17,
   "metadata": {},
   "outputs": [],
   "source": [
    "for driver, x in zip(predict_order, potential_places):\n",
    "    total_balance = 0.0\n",
    "\n",
    "    for val in x:\n",
    "        earn_pos = min(val - x[0], 5) + sum(dnf_places < val) / len(dnf_places)\n",
    "        loss_pos = min(x[-1]-val, 5)\n",
    "\n",
    "        if val > 10:\n",
    "            balance = 2 * earn_pos - loss_pos\n",
    "        else:\n",
    "            balance = 2 * (earn_pos - loss_pos)\n",
    "\n",
    "        total_balance += balance\n",
    "\n",
    "    basic_drivers[driver]['score'] += total_balance / len(x)\n",
    "    basic_team[basic_drivers[driver]['Team']]['score'] += total_balance / len(x)"
   ]
  },
  {
   "cell_type": "code",
   "execution_count": null,
   "metadata": {},
   "outputs": [],
   "source": []
  },
  {
   "cell_type": "markdown",
   "metadata": {},
   "source": [
    "# 11. Not classified (driver only) (руками)"
   ]
  },
  {
   "cell_type": "code",
   "execution_count": null,
   "metadata": {},
   "outputs": [],
   "source": []
  },
  {
   "cell_type": "code",
   "execution_count": null,
   "metadata": {},
   "outputs": [],
   "source": []
  },
  {
   "cell_type": "markdown",
   "metadata": {},
   "source": [
    "# 12. Finishing Position Bonuses (не добавил dnf)"
   ]
  },
  {
   "cell_type": "code",
   "execution_count": 18,
   "metadata": {},
   "outputs": [],
   "source": [
    "points = [25, 18, 15, 12, 10, 8, 6, 4, 2, 1, 0, 0, 0, 0, 0, 0, 0, 0, 0, 0]\n",
    "points = np.array(points)\n",
    "\n",
    "\n",
    "for driver, x in zip(predict_order, potential_places):\n",
    "    basic_drivers[driver]['score'] += sum([points[i - 1] for i in x]) / len(x)\n",
    "    basic_team[basic_drivers[driver]['Team']]['score'] += sum([points[i - 1] for i in x]) / len(x)"
   ]
  },
  {
   "cell_type": "code",
   "execution_count": null,
   "metadata": {},
   "outputs": [],
   "source": []
  },
  {
   "cell_type": "markdown",
   "metadata": {},
   "source": [
    "# 13. Streaks (Руками)"
   ]
  },
  {
   "cell_type": "markdown",
   "metadata": {},
   "source": [
    "## 13.1 Driver Qualifying - driver qualifies in Top 10 for 5 races in a row"
   ]
  },
  {
   "cell_type": "code",
   "execution_count": 19,
   "metadata": {},
   "outputs": [],
   "source": [
    "basic_drivers['L. Hamilton']['score'] += 5.0\n",
    "basic_drivers['V. Bottas']['score'] += 5.0\n",
    "basic_drivers['M. Verstappen']['score'] += 5.0\n",
    "\n",
    "\n",
    "basic_drivers['L. Norris']['score'] += 5.0 * (9 / 12)"
   ]
  },
  {
   "cell_type": "markdown",
   "metadata": {},
   "source": [
    "## 13.2 Driver Race - driver finishes race in Top 10 for 5 races in a row"
   ]
  },
  {
   "cell_type": "code",
   "execution_count": null,
   "metadata": {},
   "outputs": [],
   "source": []
  },
  {
   "cell_type": "markdown",
   "metadata": {},
   "source": [
    "## 13.3 Constructor Qualifying - both drivers qualify in Top 10 for 3 races in a row"
   ]
  },
  {
   "cell_type": "code",
   "execution_count": null,
   "metadata": {},
   "outputs": [],
   "source": []
  },
  {
   "cell_type": "markdown",
   "metadata": {},
   "source": [
    "## 13.4 Constructor Race - both drivers finish race in Top 10 for 3 races in a row"
   ]
  },
  {
   "cell_type": "code",
   "execution_count": null,
   "metadata": {},
   "outputs": [],
   "source": []
  },
  {
   "cell_type": "code",
   "execution_count": null,
   "metadata": {},
   "outputs": [],
   "source": []
  },
  {
   "cell_type": "code",
   "execution_count": 20,
   "metadata": {},
   "outputs": [
    {
     "name": "stdout",
     "output_type": "stream",
     "text": [
      "L. Hamilton 36.769\n",
      "M. Verstappen 43.716\n",
      "L. Norris 23.775\n",
      "C. Leclerc 24.237\n",
      "V. Bottas 42.025\n",
      "C. Saintz J. 18.694\n",
      "D. Riccardo 7.152\n",
      "S. Perez 12.311\n",
      "P. Gasly 28.6\n",
      "L. Stroll 11.993\n",
      "Y. Tsunoda 8.74\n",
      "E. Ocon 7.194\n",
      "F. Alonso 12.38\n",
      "K. Raikkonen 6.405\n",
      "A. Giovinazzi 11.333\n",
      "G. Russel 7.185\n",
      "S. Vettel 5.833\n",
      "M. Schumacher 8.817\n",
      "N. Mazepin 6.233\n",
      "N. Latifi 10.64\n"
     ]
    }
   ],
   "source": [
    "for driver in basic_drivers:\n",
    "    print(driver, round(basic_drivers[driver]['score'], 3))"
   ]
  },
  {
   "cell_type": "code",
   "execution_count": 21,
   "metadata": {},
   "outputs": [
    {
     "name": "stdout",
     "output_type": "stream",
     "text": [
      "Mercedes 58.5\n",
      "Red Bull 44.262\n",
      "Ferrari 37.343\n",
      "McLaren 20.413\n",
      "Aston Martin 12.827\n",
      "Alpine 13.985\n",
      "AlphaTauri 32.59\n",
      "Alfa Romeo 12.737\n",
      "Williams 12.824\n",
      "Haas 10.55\n"
     ]
    }
   ],
   "source": [
    "for team in basic_team:\n",
    "    print(team, round(basic_team[team]['score'], 3))"
   ]
  },
  {
   "cell_type": "code",
   "execution_count": null,
   "metadata": {},
   "outputs": [],
   "source": []
  },
  {
   "cell_type": "markdown",
   "metadata": {},
   "source": [
    "# Scoring function"
   ]
  },
  {
   "cell_type": "code",
   "execution_count": null,
   "metadata": {},
   "outputs": [],
   "source": [
    "# за первую квалу - 0\n",
    "# за вторую квалу - 0\n",
    "# за третью квалу - 1\n",
    "# за четвертую квалу - 1\n",
    "# за пятую квалу - 3\n",
    "# 0 - 0 - 1 - 2 - 5\n",
    "\n",
    "\n",
    "# за первую гонку - 0\n",
    "# за вторую гонку - 1\n",
    "# за третью гонку - 1\n",
    "# за четвертую гонку - 2\n",
    "# за пятую гонку - 6\n",
    "# 0 - 1 - 2 - 4 - 10\n",
    "\n",
    "\n",
    "# команда за первую квалу\n",
    "# за первую квалу - 1\n",
    "# за вторую квалу - 1\n",
    "# за третью квалу - 3\n",
    "# 1 - 2 - 5\n",
    "\n",
    "# команда за первую гонку\n",
    "# за первую гонку - 1\n",
    "# за вторую гонку - 2\n",
    "# за третью гонку - 7\n",
    "# 1- 3- 10 "
   ]
  },
  {
   "cell_type": "code",
   "execution_count": 14,
   "metadata": {},
   "outputs": [],
   "source": [
    "class FantasyScoring:\n",
    "    \"\"\"\n",
    "    class for useful scoring\n",
    "    \"\"\"\n",
    "    def __init__(self):\n",
    "        \"\"\"\n",
    "        \"\"\"\n",
    "        pass\n",
    "\n",
    "        \n",
    "        \n",
    "    def reset(self):\n",
    "        drivers = ['L. Hamilton', 'M. Verstappen', 'L. Norris', 'C. Leclerc',\n",
    "           'V. Bottas', 'C. Saintz J.', 'D. Riccardo', 'S. Perez',\n",
    "           'P. Gasly', 'L. Stroll', 'Y. Tsunoda', 'E. Ocon',\n",
    "           'F. Alonso', 'K. Raikkonen', 'A. Giovinazzi', 'G. Russel',\n",
    "           'S. Vettel', 'M. Schumacher', 'N. Mazepin', 'N. Latifi']\n",
    "\n",
    "        teams = ['Mercedes', 'Red Bull', 'Ferrari',\n",
    "                 'McLaren', 'Aston Martin', 'Alpine',\n",
    "                 'AlphaTauri', 'Alfa Romeo', 'Williams',\n",
    "                 'Haas']\n",
    "\n",
    "        self.basic_drivers = dict()\n",
    "        for driver in drivers:\n",
    "            self.basic_drivers[driver] = dict()\n",
    "            self.basic_drivers[driver]['score'] = 0.0\n",
    "\n",
    "\n",
    "        self.basic_drivers['L. Hamilton']['Team'] = 'Mercedes'\n",
    "        self.basic_drivers['M. Verstappen']['Team'] = 'Red Bull'\n",
    "        self.basic_drivers['L. Norris']['Team'] = 'McLaren'\n",
    "        self.basic_drivers['C. Leclerc']['Team'] = 'Ferrari'\n",
    "        self.basic_drivers['V. Bottas']['Team'] = 'Mercedes'\n",
    "\n",
    "\n",
    "        self.basic_drivers['C. Saintz J.']['Team'] = 'Ferrari'\n",
    "        self.basic_drivers['D. Riccardo']['Team'] = 'McLaren'\n",
    "        self.basic_drivers['S. Perez']['Team'] = 'Red Bull'\n",
    "        self.basic_drivers['P. Gasly']['Team'] = 'AlphaTauri'\n",
    "        self.basic_drivers['L. Stroll']['Team'] = 'Aston Martin'\n",
    "\n",
    "\n",
    "        self.basic_drivers['Y. Tsunoda']['Team'] = 'AlphaTauri'\n",
    "        self.basic_drivers['E. Ocon']['Team'] = 'Alpine'\n",
    "        self.basic_drivers['F. Alonso']['Team'] = 'Alpine'\n",
    "        self.basic_drivers['K. Raikkonen']['Team'] = 'Alfa Romeo'\n",
    "        self.basic_drivers['A. Giovinazzi']['Team'] = 'Alfa Romeo'\n",
    "\n",
    "\n",
    "        self.basic_drivers['G. Russel']['Team'] = 'Williams'\n",
    "        self.basic_drivers['S. Vettel']['Team'] = 'Aston Martin'\n",
    "        self.basic_drivers['M. Schumacher']['Team'] = 'Haas'\n",
    "        self.basic_drivers['N. Mazepin']['Team'] = 'Haas'\n",
    "        self.basic_drivers['N. Latifi']['Team'] = 'Williams'\n",
    "\n",
    "\n",
    "        self.basic_team = dict()\n",
    "        for team in teams:\n",
    "            self.basic_team[team] = dict()\n",
    "            self.basic_team[team]['score'] = 0.0\n",
    "\n",
    "\n",
    "        self.basic_team['Mercedes']['drivers'] = ['L. Hamilton', 'V. Bottas']\n",
    "        self.basic_team['Red Bull']['drivers'] = ['M. Verstappen', 'S. Perez']\n",
    "        self.basic_team['Ferrari']['drivers'] = ['C. Leclerc', 'C. Saintz J.']\n",
    "        self.basic_team['McLaren']['drivers'] = ['L. Norris', 'D. Riccardo']\n",
    "        self.basic_team['Aston Martin']['drivers'] = ['L. Stroll', 'S. Vettel']\n",
    "\n",
    "\n",
    "        self.basic_team['Alpine']['drivers'] = ['E. Ocon', 'F. Alonso']\n",
    "        self.basic_team['AlphaTauri']['drivers'] = ['P. Gasly', 'Y. Tsunoda']\n",
    "        self.basic_team['Alfa Romeo']['drivers'] = ['K. Raikkonen', 'A. Giovinazzi']\n",
    "        self.basic_team['Williams']['drivers'] = ['G. Russel', 'N. Latifi']\n",
    "        self.basic_team['Haas']['drivers'] = ['M. Schumacher', 'N. Mazepin']\n",
    "        \n",
    "        \n",
    "        self.basic_drivers['L. Hamilton']['cost'] = 33.4\n",
    "        self.basic_drivers['M. Verstappen']['cost'] = 25.2\n",
    "        self.basic_drivers['L. Norris']['cost'] = 13.5\n",
    "        self.basic_drivers['C. Leclerc']['cost'] = 17.6\n",
    "        self.basic_drivers['V. Bottas']['cost'] = 23.4\n",
    "\n",
    "\n",
    "        self.basic_drivers['C. Saintz J.']['cost'] = 14.3\n",
    "        self.basic_drivers['D. Riccardo']['cost'] = 16.6\n",
    "        self.basic_drivers['S. Perez']['cost'] = 18.4\n",
    "        self.basic_drivers['P. Gasly']['cost'] = 11.7\n",
    "        self.basic_drivers['L. Stroll']['cost'] = 13.6\n",
    "\n",
    "\n",
    "        self.basic_drivers['Y. Tsunoda']['cost'] = 9.4\n",
    "        self.basic_drivers['E. Ocon']['cost'] = 9.7\n",
    "        self.basic_drivers['F. Alonso']['cost'] = 15.1\n",
    "        self.basic_drivers['K. Raikkonen']['cost'] = 9.4\n",
    "        self.basic_drivers['A. Giovinazzi']['cost'] = 7.8\n",
    "\n",
    "\n",
    "        self.basic_drivers['G. Russel']['cost'] = 6.2\n",
    "        self.basic_drivers['S. Vettel']['cost'] = 15.3\n",
    "        self.basic_drivers['M. Schumacher']['cost'] = 5.7\n",
    "        self.basic_drivers['N. Mazepin']['cost'] = 5.3\n",
    "        self.basic_drivers['N. Latifi']['cost'] = 6.5\n",
    "\n",
    "\n",
    "\n",
    "\n",
    "\n",
    "\n",
    "        self.basic_team['Mercedes']['cost'] = 37.7\n",
    "        self.basic_team['Red Bull']['cost'] = 26.1\n",
    "        self.basic_team['Ferrari']['cost'] = 18.8\n",
    "        self.basic_team['McLaren']['cost'] = 18.7\n",
    "        self.basic_team['Aston Martin']['cost'] = 16.8\n",
    "\n",
    "\n",
    "        self.basic_team['Alpine']['cost'] = 15.0\n",
    "        self.basic_team['AlphaTauri']['cost'] = 13.2\n",
    "        self.basic_team['Alfa Romeo']['cost'] = 8.9\n",
    "        self.basic_team['Williams']['cost'] = 6.3\n",
    "        self.basic_team['Haas']['cost'] = 6.1\n",
    "        \n",
    "        \n",
    "    def scoring(self, Q_data, R_data, Streak):\n",
    "        # 1. init basic parametr\n",
    "        self.reset()\n",
    "        \n",
    "        # 2. Q scoring\n",
    "        self.Q_scoring(Q_data[0], Q_data[1], Q_data[2])\n",
    "        \n",
    "        \n",
    "        # 3. Race scoring\n",
    "        self.R_scoring(R_data[0], R_data[1], R_data[2], R_data[3], Q_data[0])\n",
    "        \n",
    "        # 4. \n",
    "        self.streak_scoring(Streak[0], Streak[1], Streak[2], Streak[3],\n",
    "                            Q_data[0], R_data[0])\n",
    "\n",
    "        \n",
    "    def Q_scoring(self, Q_order, Q_dnf, Q_disq):\n",
    "        \n",
    "        # 1. Q1, Q2, Q3 Finish\n",
    "        for driver in Q_order[:10]:\n",
    "            self.basic_drivers[driver]['score'] += 3.0\n",
    "            team_ = self.basic_drivers[driver]['Team']\n",
    "            self.basic_team[team_]['score'] += 3.0\n",
    "            \n",
    "            \n",
    "        for driver in Q_order[10:15]:\n",
    "            self.basic_drivers[driver]['score'] += 2.0\n",
    "            team_ = self.basic_drivers[driver]['Team']\n",
    "            self.basic_team[team_]['score'] += 2.0\n",
    "            \n",
    "            \n",
    "        for driver in Q_order[15:]:\n",
    "            self.basic_drivers[driver]['score'] += 1.0\n",
    "            team_ = self.basic_drivers[driver]['Team']\n",
    "            self.basic_team[team_]['score'] += 1.0\n",
    "            \n",
    "            \n",
    "        # 2. Qualified ahead of team mate (driver only)\n",
    "        for i, driver in enumerate(Q_order):\n",
    "            team_ = self.basic_drivers[driver]['Team']\n",
    "            team_mate = [val for val in self.basic_team[team_]['drivers'] if val != driver][0]\n",
    "            j = [i for i, val in enumerate(Q_order) if val == team_mate][0]\n",
    "            if i < j:\n",
    "                self.basic_drivers[driver]['score'] += 2.0\n",
    "                \n",
    "                \n",
    "        # 3. Did not qualify (driver only)\n",
    "        for driver, mask in zip(Q_order, Q_dnf):\n",
    "            if mask:\n",
    "                self.basic_drivers[driver]['score'] -= 5.0\n",
    "        \n",
    "        \n",
    "        # 4. Did not qualify (driver only)\n",
    "        for driver, mask in zip(Q_order, Q_disq):\n",
    "            if mask:\n",
    "                self.basic_drivers[driver]['score'] -= 10.0\n",
    "                \n",
    "                \n",
    "        # 5. score for place\n",
    "        for i, driver in enumerate(Q_order[:10]):\n",
    "            self.basic_drivers[driver]['score'] += 10.0 - i\n",
    "            team_ = self.basic_drivers[driver]['Team']\n",
    "            self.basic_team[team_]['score'] += 10.0 - i\n",
    "            \n",
    "            \n",
    "            \n",
    "    def R_scoring(self, R_order, R_dnf, R_disq, fastest_lap_racer, Q_order):\n",
    "        \n",
    "        # 1. Finished Race\n",
    "        for driver, mask in zip(R_order, R_dnf):\n",
    "            if not mask:\n",
    "                self.basic_drivers[driver]['score'] += 1.0\n",
    "                team_ = self.basic_drivers[driver]['Team']\n",
    "                self.basic_team[team_]['score'] += 1.0\n",
    "                \n",
    "                \n",
    "                \n",
    "        # 2. Finished race, position gained \n",
    "        for i, driver in enumerate(R_order):\n",
    "            j = [k for k, val in enumerate(Q_order) if val == driver][0]\n",
    "            earn_score = 2 * (j - i)\n",
    "            earn_score = min(earn_score, 10.0)\n",
    "            earn_score = max(earn_score, 0.0)\n",
    "            \n",
    "            self.basic_drivers[driver]['score'] += earn_score\n",
    "            team_ = self.basic_drivers[driver]['Team']\n",
    "            self.basic_team[team_]['score'] += earn_score\n",
    "            \n",
    "            \n",
    "        # 3. Finished ahead of team mate (driver only)\n",
    "        for i, driver in enumerate(R_order):\n",
    "            team_ = self.basic_drivers[driver]['Team']\n",
    "            team_mate = [val for val in self.basic_team[team_]['drivers'] if val != driver][0]\n",
    "            j = [k for k, val in enumerate(R_order) if val == team_mate][0]\n",
    "            if i < j:\n",
    "                self.basic_drivers[driver]['score'] += 3.0\n",
    "                \n",
    "        \n",
    "        # 4. Fastest lap (driver only)\n",
    "        self.basic_drivers[fastest_lap_racer]['score'] += 5.0\n",
    "        team_ = self.basic_drivers[fastest_lap_racer]['Team']\n",
    "        self.basic_team[team_]['score'] += 5.0\n",
    "        \n",
    "        \n",
    "        # 5. finished race but lost position\n",
    "        for i, driver in enumerate(R_order):\n",
    "            j = [k for k, val in enumerate(Q_order) if val == driver][0]\n",
    "            earn_score = (j - i)\n",
    "            earn_score = max(earn_score, -5.0)\n",
    "            earn_score = min(earn_score, 0.0)\n",
    "            \n",
    "            if i < 10:\n",
    "                earn_score = earn_score * 2\n",
    "            \n",
    "            self.basic_drivers[driver]['score'] += earn_score\n",
    "            team_ = self.basic_drivers[driver]['Team']\n",
    "            self.basic_team[team_]['score'] += earn_score\n",
    "            \n",
    "            \n",
    "        # 6. Not classified (driver only)\n",
    "        for driver, mask in zip(R_order, R_dnf):\n",
    "            if mask:\n",
    "                self.basic_drivers[driver]['score'] -= 15.0\n",
    "                \n",
    "                \n",
    "        # 6. Disqualification from race (driver only)\n",
    "        for driver, mask in zip(R_order, R_disq):\n",
    "            if mask:\n",
    "                self.basic_drivers[driver]['score'] -= 20.0\n",
    "                \n",
    "                \n",
    "        # 7. points \n",
    "        points = [25, 18, 15, 12, 10 ,8, 6, 4, 2, 1]\n",
    "        for driver, point in zip(R_order[:10], points):\n",
    "            self.basic_drivers[driver]['score'] += point\n",
    "            team_ = self.basic_drivers[driver]['Team']\n",
    "            self.basic_team[team_]['score'] += point\n",
    "            \n",
    "            \n",
    "    def streak_scoring(self, Q_history_drivers, R_history_drivers,\n",
    "                             Q_history_teams, R_history_teams, \n",
    "                             Q_order, R_order):\n",
    "        \n",
    "        Q_scores_drivers = [0, 0, 0, 1, 2, 5]\n",
    "        Q_scores_teams = [0, 1, 2, 5]\n",
    "        \n",
    "        R_scores_drivers = [0, 0, 1, 2, 4, 10]\n",
    "        R_scores_teams = [0, 1, 3, 10]\n",
    "        \n",
    "        for i, driver in enumerate(Q_order[:10]):\n",
    "            self.basic_drivers[driver]['score'] += Q_scores_drivers[Q_history_drivers[i] + 1]\n",
    "            \n",
    "            \n",
    "        for i, driver in enumerate(R_order[:10]):\n",
    "            self.basic_drivers[driver]['score'] += R_scores_drivers[R_history_drivers[i] + 1]\n",
    "            \n",
    "            \n",
    "        team_order = ['Mercedes', 'Red Bull', 'Ferrari',\n",
    "                      'McLaren', 'Aston Martin', 'Alpine',\n",
    "                      'AlphaTauri', 'Alfa Romeo', 'Williams', 'Haas']\n",
    "            \n",
    "        for i, team in enumerate(team_order):\n",
    "            driver1 = self.basic_team[team]['drivers'][0]\n",
    "            driver2 = self.basic_team[team]['drivers'][1]\n",
    "            \n",
    "            pos1 = [i for i, val in enumerate(Q_order) if val == driver1][0]\n",
    "            pos2 = [i for i, val in enumerate(Q_order) if val == driver2][0]\n",
    "            \n",
    "            if pos1 < 10 and pos2 < 10:\n",
    "                self.basic_team[team]['score'] += Q_scores_teams[Q_history_teams[i] + 1]\n",
    "        \n",
    "            \n",
    "            pos1 = [i for i, val in enumerate(R_order) if val == driver1][0]\n",
    "            pos2 = [i for i, val in enumerate(R_order) if val == driver2][0]\n",
    "            \n",
    "            if pos1 < 10 and pos2 < 10:\n",
    "                self.basic_team[team]['score'] += R_scores_teams[R_history_teams[i] + 1]"
   ]
  },
  {
   "cell_type": "code",
   "execution_count": 15,
   "metadata": {},
   "outputs": [],
   "source": [
    "# договориться можно обо всём\n",
    "\n",
    "Q_Bahrain_order = ['M. Verstappen', 'L. Hamilton', \n",
    "                   'V. Bottas', 'C. Leclerc',\n",
    "                   'P. Gasly', 'D. Riccardo', \n",
    "                   'L. Norris', 'C. Saintz J.', \n",
    "                   'F. Alonso', 'L. Stroll',\n",
    "                   \n",
    "                   \n",
    "                   'S. Perez', 'A. Giovinazzi',\n",
    "                   'Y. Tsunoda', 'K. Raikkonen', \n",
    "                   'G. Russel', 'E. Ocon', \n",
    "                   'N. Latifi', 'S. Vettel',\n",
    "                   'M. Schumacher', 'N. Mazepin']\n",
    "\n",
    "Q_Bahrain_dnf = [False for i in range(20)]\n",
    "Q_Bahrain_disq = [False for i in range(20)]\n",
    "Q_Bahrain = [Q_Bahrain_order, Q_Bahrain_dnf, Q_Bahrain_disq]\n",
    "\n",
    "\n",
    "R_Bahrain_order = ['L. Hamilton', 'M. Verstappen',\n",
    "                   'V. Bottas', 'L. Norris', \n",
    "                   'S. Perez', 'C. Leclerc',\n",
    "                   'D. Riccardo', 'C. Saintz J.', \n",
    "                   'Y. Tsunoda', 'L. Stroll',\n",
    "                  \n",
    "                   'K. Raikkonen', 'A. Giovinazzi',\n",
    "                   'E. Ocon', 'G. Russel', \n",
    "                   'S. Vettel', 'M. Schumacher',\n",
    "                   'P. Gasly', 'N. Latifi',\n",
    "                   'F. Alonso', 'N. Mazepin']\n",
    "\n",
    "\n",
    "R_Bahrain_dnf = [False for i in range(16)]\n",
    "R_Bahrain_dnf += [True, True, True, True]\n",
    "R_Bahrain_disq = [False for i in range(20)]\n",
    "Fast_lap = 'V. Bottas'\n",
    "\n",
    "R_Bahrain = [R_Bahrain_order, R_Bahrain_dnf, \n",
    "             R_Bahrain_disq, Fast_lap]\n",
    "\n",
    "\n",
    "streak_q_drivers = [0 for i in range(20)]\n",
    "streak_r_drivers = [0 for i in range(20)]\n",
    "streak_q_teams = [0 for i in range(10)]\n",
    "streak_r_teams = [0 for i in range(10)]\n",
    "\n",
    "S_Bahrain = [streak_q_drivers, streak_r_drivers,\n",
    "           streak_q_teams, streak_r_teams]"
   ]
  },
  {
   "cell_type": "code",
   "execution_count": 16,
   "metadata": {},
   "outputs": [],
   "source": [
    "FS = FantasyScoring()\n",
    "FS.scoring(Q_Bahrain, R_Bahrain, S_Bahrain)"
   ]
  },
  {
   "cell_type": "code",
   "execution_count": null,
   "metadata": {},
   "outputs": [],
   "source": []
  },
  {
   "cell_type": "markdown",
   "metadata": {},
   "source": [
    "# Optimisation"
   ]
  },
  {
   "cell_type": "code",
   "execution_count": null,
   "metadata": {},
   "outputs": [],
   "source": [
    "FS.basic_drivers[driver1]['cost']"
   ]
  },
  {
   "cell_type": "code",
   "execution_count": 6,
   "metadata": {},
   "outputs": [],
   "source": [
    "drivers = ['L. Hamilton', 'M. Verstappen', 'L. Norris', 'C. Leclerc',\n",
    "           'V. Bottas', 'C. Saintz J.', 'D. Riccardo', 'S. Perez',\n",
    "           'P. Gasly', 'L. Stroll', 'Y. Tsunoda', 'E. Ocon',\n",
    "           'F. Alonso', 'K. Raikkonen', 'A. Giovinazzi', 'G. Russel',\n",
    "           'S. Vettel', 'M. Schumacher', 'N. Mazepin', 'N. Latifi']\n",
    "\n",
    "teams = ['Mercedes', 'Red Bull', 'Ferrari',\n",
    "         'McLaren', 'Aston Martin', 'Alpine',\n",
    "         'AlphaTauri', 'Alfa Romeo', 'Williams',\n",
    "         'Haas']"
   ]
  },
  {
   "cell_type": "code",
   "execution_count": 25,
   "metadata": {},
   "outputs": [
    {
     "data": {
      "application/vnd.jupyter.widget-view+json": {
       "model_id": "47e24322e0534361acf9c77c791629fc",
       "version_major": 2,
       "version_minor": 0
      },
      "text/plain": [
       "HBox(children=(HTML(value=''), FloatProgress(value=0.0, max=20.0), HTML(value='')))"
      ]
     },
     "metadata": {},
     "output_type": "display_data"
    },
    {
     "name": "stdout",
     "output_type": "stream",
     "text": [
      "\n"
     ]
    }
   ],
   "source": [
    "# turbo-driver limit is $20m\n",
    "# \n",
    "full_money = 100.0\n",
    "\n",
    "\n",
    "potential_combo = []\n",
    "\n",
    "for driver1 in tqdm(drivers):\n",
    "    for driver2 in [val for val in drivers if val != driver1]:\n",
    "        for driver3 in [val for val in drivers if val not in [driver1, driver2]]:\n",
    "            for driver4 in [val for val in drivers if val not in [driver1, driver2, driver3]]:\n",
    "                for driver5 in [val for val in drivers if val not in [driver1, driver2, driver3, driver4]]:\n",
    "                    for team in teams:\n",
    "                        total_costs = (FS.basic_drivers[driver1]['cost'] + \\\n",
    "                                        FS.basic_drivers[driver2]['cost'] + \\\n",
    "                                        FS.basic_drivers[driver3]['cost'] + \\\n",
    "                                        FS.basic_drivers[driver4]['cost'] + \\\n",
    "                                        FS.basic_drivers[driver5]['cost'] + \\\n",
    "                                        FS.basic_team[team]['cost'])\n",
    "                        if total_costs < 100.0:\n",
    "                            potential_combo.append([driver1, driver2, driver3, driver4, driver5, team])\n"
   ]
  },
  {
   "cell_type": "code",
   "execution_count": 31,
   "metadata": {},
   "outputs": [
    {
     "data": {
      "application/vnd.jupyter.widget-view+json": {
       "model_id": "d55b089876874f0e91c6b698963ab901",
       "version_major": 2,
       "version_minor": 0
      },
      "text/plain": [
       "HBox(children=(HTML(value=''), FloatProgress(value=0.0, max=14738834.0), HTML(value='')))"
      ]
     },
     "metadata": {},
     "output_type": "display_data"
    },
    {
     "name": "stdout",
     "output_type": "stream",
     "text": [
      "\n"
     ]
    }
   ],
   "source": [
    "for pteam in tqdm(potential_combo):\n",
    "    pass"
   ]
  },
  {
   "cell_type": "code",
   "execution_count": 32,
   "metadata": {},
   "outputs": [
    {
     "data": {
      "text/plain": [
       "['N. Latifi', 'N. Mazepin', 'M. Schumacher', 'S. Vettel', 'G. Russel', 'Haas']"
      ]
     },
     "execution_count": 32,
     "metadata": {},
     "output_type": "execute_result"
    }
   ],
   "source": [
    "pteam"
   ]
  },
  {
   "cell_type": "code",
   "execution_count": 99,
   "metadata": {},
   "outputs": [
    {
     "data": {
      "application/vnd.jupyter.widget-view+json": {
       "model_id": "ee5c6cc317c24be5aa832e45e1bc451b",
       "version_major": 2,
       "version_minor": 0
      },
      "text/plain": [
       "HBox(children=(HTML(value=''), FloatProgress(value=0.0, max=14738834.0), HTML(value='')))"
      ]
     },
     "metadata": {},
     "output_type": "display_data"
    },
    {
     "name": "stdout",
     "output_type": "stream",
     "text": [
      "\n"
     ]
    }
   ],
   "source": [
    "teams = dict()\n",
    "teams['player 1'] = []\n",
    "teams['player 2'] = []\n",
    "teams['player 3'] = []\n",
    "teams['player 4'] = []\n",
    "teams['player 5'] = []\n",
    "teams['team'] = []\n",
    "\n",
    "teams['turbo driver'] = []\n",
    "teams['score'] = []\n",
    "\n",
    "for pteam in tqdm(potential_combo):\n",
    "    for driver in pteam[:-1]:\n",
    "        if FS.basic_drivers[driver]['cost'] < 20.0:\n",
    "            teams['player 1'].append(pteam[0])\n",
    "            teams['player 2'].append(pteam[1])\n",
    "            teams['player 3'].append(pteam[2])\n",
    "            teams['player 4'].append(pteam[3])\n",
    "            teams['player 5'].append(pteam[4])\n",
    "            teams['team'].append(pteam[-1])\n",
    "            teams['turbo driver'].append(driver)\n",
    "            \n",
    "            teams['score'].append(FS.basic_team[pteam[-1]]['score'])\n",
    "            for cur_driver in pteam[:-1]:\n",
    "                teams['score'][-1] += FS.basic_drivers[cur_driver]['score']\n",
    "            \n",
    "            teams['score'][-1] += FS.basic_drivers[driver]['score']\n",
    "            \n",
    "            \n",
    "teams = pd.DataFrame(teams)\n",
    "q90 = np.quantile(teams['score'].values, 0.999)\n",
    "teams = teams[teams['score'] > q90]\n",
    "teams.reset_index(inplace = True, drop = True)"
   ]
  },
  {
   "cell_type": "code",
   "execution_count": 100,
   "metadata": {},
   "outputs": [
    {
     "data": {
      "text/plain": [
       "array(['L. Norris', 'C. Leclerc', 'S. Perez', 'Y. Tsunoda',\n",
       "       'M. Schumacher', 'K. Raikkonen', 'G. Russel', 'E. Ocon'],\n",
       "      dtype=object)"
      ]
     },
     "execution_count": 100,
     "metadata": {},
     "output_type": "execute_result"
    }
   ],
   "source": [
    "teams['turbo driver'].unique()"
   ]
  },
  {
   "cell_type": "code",
   "execution_count": null,
   "metadata": {},
   "outputs": [],
   "source": []
  },
  {
   "cell_type": "code",
   "execution_count": null,
   "metadata": {},
   "outputs": [],
   "source": []
  },
  {
   "cell_type": "code",
   "execution_count": null,
   "metadata": {},
   "outputs": [],
   "source": []
  },
  {
   "cell_type": "code",
   "execution_count": null,
   "metadata": {},
   "outputs": [],
   "source": []
  },
  {
   "cell_type": "code",
   "execution_count": null,
   "metadata": {},
   "outputs": [],
   "source": []
  },
  {
   "cell_type": "code",
   "execution_count": null,
   "metadata": {},
   "outputs": [],
   "source": []
  }
 ],
 "metadata": {
  "kernelspec": {
   "display_name": "Python 3",
   "language": "python",
   "name": "python3"
  },
  "language_info": {
   "codemirror_mode": {
    "name": "ipython",
    "version": 3
   },
   "file_extension": ".py",
   "mimetype": "text/x-python",
   "name": "python",
   "nbconvert_exporter": "python",
   "pygments_lexer": "ipython3",
   "version": "3.7.6"
  }
 },
 "nbformat": 4,
 "nbformat_minor": 4
}
