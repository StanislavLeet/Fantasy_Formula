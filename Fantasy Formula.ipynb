{
 "cells": [
  {
   "cell_type": "code",
   "execution_count": 1,
   "metadata": {},
   "outputs": [],
   "source": [
    "import pandas as pd\n",
    "import numpy as np"
   ]
  },
  {
   "cell_type": "code",
   "execution_count": 2,
   "metadata": {},
   "outputs": [],
   "source": [
    "drivers = ['L. Hamilton', 'M. Verstappen', 'L. Norris', 'C. Leclerc',\n",
    "           'V. Bottas', 'C. Saintz J.', 'D. Riccardo', 'S. Perez',\n",
    "           'P. Gasly', 'L. Stroll', 'Y. Tsunoda', 'E. Ocon',\n",
    "           'F. Alonso', 'K. Raikkonen', 'A. Giovinazzi', 'G. Russel',\n",
    "           'S. Vettel', 'M. Schumacher', 'N. Mazepin', 'N. Latifi']\n",
    "\n",
    "teams = ['Mercedes', 'Red Bull', 'Ferrari',\n",
    "         'McLaren', 'Aston Martin', 'Alpine',\n",
    "         'AlphaTauri', 'Alfa Romeo', 'Williams',\n",
    "         'Haas']\n",
    "\n",
    "basic_drivers = dict()\n",
    "for driver in drivers:\n",
    "    basic_drivers[driver] = dict()\n",
    "    basic_drivers[driver]['score'] = 0.0\n",
    "    \n",
    "    \n",
    "basic_drivers['L. Hamilton']['Team'] = 'Mercedes'\n",
    "basic_drivers['M. Verstappen']['Team'] = 'Red Bull'\n",
    "basic_drivers['L. Norris']['Team'] = 'McLaren'\n",
    "basic_drivers['C. Leclerc']['Team'] = 'Ferrari'\n",
    "basic_drivers['V. Bottas']['Team'] = 'Mercedes'\n",
    "\n",
    "\n",
    "basic_drivers['C. Saintz J.']['Team'] = 'Ferrari'\n",
    "basic_drivers['D. Riccardo']['Team'] = 'McLaren'\n",
    "basic_drivers['S. Perez']['Team'] = 'Red Bull'\n",
    "basic_drivers['P. Gasly']['Team'] = 'AlphaTauri'\n",
    "basic_drivers['L. Stroll']['Team'] = 'Aston Martin'\n",
    "\n",
    "\n",
    "basic_drivers['Y. Tsunoda']['Team'] = 'AlphaTauri'\n",
    "basic_drivers['E. Ocon']['Team'] = 'Alpine'\n",
    "basic_drivers['F. Alonso']['Team'] = 'Alpine'\n",
    "basic_drivers['K. Raikkonen']['Team'] = 'Alfa Romeo'\n",
    "basic_drivers['A. Giovinazzi']['Team'] = 'Alfa Romeo'\n",
    "\n",
    "\n",
    "basic_drivers['G. Russel']['Team'] = 'Williams'\n",
    "basic_drivers['S. Vettel']['Team'] = 'Aston Martin'\n",
    "basic_drivers['M. Schumacher']['Team'] = 'Haas'\n",
    "basic_drivers['N. Mazepin']['Team'] = 'Haas'\n",
    "basic_drivers['N. Latifi']['Team'] = 'Williams'\n",
    "\n",
    "\n",
    "basic_team = dict()\n",
    "for team in teams:\n",
    "    basic_team[team] = dict()\n",
    "    basic_team[team]['score'] = 0.0\n",
    "    \n",
    "    \n",
    "basic_team['Mercedes']['drivers'] = ['L. Hamilton', 'V. Bottas']\n",
    "basic_team['Red Bull']['drivers'] = ['M. Verstappen', 'S. Perez']\n",
    "basic_team['Ferrari']['drivers'] = ['C. Leclerc', 'C. Saintz J.']\n",
    "basic_team['McLaren']['drivers'] = ['L. Norris', 'D. Riccardo']\n",
    "basic_team['Aston Martin']['drivers'] = ['L. Stroll', 'S. Vettel']\n",
    "\n",
    "\n",
    "basic_team['Alpine']['drivers'] = ['E. Ocon', 'F. Alonso']\n",
    "basic_team['AlphaTauri']['drivers'] = ['P. Gasly', 'Y. Tsunoda']\n",
    "basic_team['Alfa Romeo']['drivers'] = ['K. Raikkonen', 'A. Giovinazzi']\n",
    "basic_team['Williams']['drivers'] = ['G. Russel', 'N. Latifi']\n",
    "basic_team['Haas']['drivers'] = ['M. Schumacher', 'N. Mazepin']"
   ]
  },
  {
   "cell_type": "code",
   "execution_count": 3,
   "metadata": {},
   "outputs": [],
   "source": [
    "basic_drivers['L. Hamilton']['cost'] = 33.4\n",
    "basic_drivers['M. Verstappen']['cost'] = 25.2\n",
    "basic_drivers['L. Norris']['cost'] = 13.5\n",
    "basic_drivers['C. Leclerc']['cost'] = 17.6\n",
    "basic_drivers['V. Bottas']['cost'] = 23.4\n",
    "\n",
    "\n",
    "basic_drivers['C. Saintz J.']['cost'] = 14.3\n",
    "basic_drivers['D. Riccardo']['cost'] = 16.6\n",
    "basic_drivers['S. Perez']['cost'] = 18.4\n",
    "basic_drivers['P. Gasly']['cost'] = 11.7\n",
    "basic_drivers['L. Stroll']['cost'] = 13.6\n",
    "\n",
    "\n",
    "basic_drivers['Y. Tsunoda']['cost'] = 9.4\n",
    "basic_drivers['E. Ocon']['cost'] = 9.7\n",
    "basic_drivers['F. Alonso']['cost'] = 15.1\n",
    "basic_drivers['K. Raikkonen']['cost'] = 9.4\n",
    "basic_drivers['A. Giovinazzi']['cost'] = 7.8\n",
    "\n",
    "\n",
    "basic_drivers['G. Russel']['cost'] = 6.2\n",
    "basic_drivers['S. Vettel']['cost'] = 15.3\n",
    "basic_drivers['M. Schumacher']['cost'] = 5.7\n",
    "basic_drivers['N. Mazepin']['cost'] = 5.3\n",
    "basic_drivers['N. Latifi']['cost'] = 6.5"
   ]
  },
  {
   "cell_type": "code",
   "execution_count": 4,
   "metadata": {},
   "outputs": [],
   "source": [
    "basic_team['Mercedes']['cost'] = 37.7\n",
    "basic_team['Red Bull']['cost'] = 26.1\n",
    "basic_team['Ferrari']['cost'] = 18.8\n",
    "basic_team['McLaren']['cost'] = 18.7\n",
    "basic_team['Aston Martin']['cost'] = 16.8\n",
    "\n",
    "\n",
    "basic_team['Alpine']['cost'] = 15.0\n",
    "basic_team['AlphaTauri']['cost'] = 13.2\n",
    "basic_team['Alfa Romeo']['cost'] = 8.9\n",
    "basic_team['Williams']['cost'] = 6.3\n",
    "basic_team['Haas']['cost'] = 6.1"
   ]
  },
  {
   "cell_type": "code",
   "execution_count": 5,
   "metadata": {},
   "outputs": [],
   "source": [
    "predict_order = ['M. Verstappen', 'V. Bottas', 'L. Hamilton', 'P. Gasly', \n",
    "                 'C. Leclerc', 'C. Saintz J.', 'L. Norris', 'S. Perez',\n",
    "                 'Y. Tsunoda', 'F. Alonso', 'L. Stroll', 'A. Giovinazzi',\n",
    "                 'N. Latifi', 'D. Riccardo', 'E. Ocon', 'G. Russel', \n",
    "                 'K. Raikkonen', 'S. Vettel', 'M. Schumacher', 'N. Mazepin']"
   ]
  },
  {
   "cell_type": "markdown",
   "metadata": {},
   "source": [
    "- Q1 Finish\n",
    "- Q2 Finish\n",
    "- Q3 Finish\n",
    "\n",
    "- Qualified ahead of team mate (driver only)\n",
    "\n",
    "- Did not qualify (driver only) (руками)\n",
    "\n",
    "- Qualifying Position Bonuses\n",
    "\n",
    "- Finished Race (нужно уточнить как реализовать) \n",
    "\n",
    "- Finished race, position gained (per place gained, max. +10 pts) (нужно добавить количество и, желательно, потенциальные места сходов) \n",
    "\n",
    "- Finished ahead of team mate (driver only)\n",
    "\n",
    "- Fastest lap (driver only) - распределять между 5 пилотами (1, 1, 1, 0.5, 0.5)\n",
    "\n",
    "- Started race within Top 10, finished race but lost position (per place lost, max. -10 pts) (пока оставим симметрию)\n",
    "\n",
    "- Started race outside Top 10, finished race but lost position (per place lost, max. -5 pts) (пока оставим симметрию)\n",
    "\n",
    "- Not classified (driver only) (руками)\n",
    "\n",
    "- Finishing Position Bonuses \n",
    "\n",
    "- Driver Qualifying - driver qualifies in Top 10 for 5 races in a row (руками)\n",
    "\n",
    "- Driver Race - driver finishes race in Top 10 for 5 races in a row (руками)\n",
    "\n",
    "- Constructor Qualifying - both drivers qualify in Top 10 for 3 races in a row (руками)\n",
    "\n",
    "- Constructor Race - both drivers finish race in Top 10 for 3 races in a row\n",
    "\n",
    "\n",
    "\n",
    "- Turbo Driver"
   ]
  },
  {
   "cell_type": "markdown",
   "metadata": {},
   "source": [
    "# 1. Q1, Q2, Q3"
   ]
  },
  {
   "cell_type": "code",
   "execution_count": 6,
   "metadata": {},
   "outputs": [],
   "source": [
    "for i in range(8):\n",
    "    basic_drivers[predict_order[i]]['score'] += 3.0\n",
    "    basic_team[basic_drivers[predict_order[i]]['Team']]['score'] += 3.0\n",
    "    \n",
    "for i in range(17, 20):\n",
    "    basic_drivers[predict_order[i]]['score'] += 1.0\n",
    "    basic_team[basic_drivers[predict_order[i]]['Team']]['score'] += 1.0\n",
    "\n",
    "    \n",
    "basic_drivers[predict_order[8]]['score'] += (3 + 3 + 3 + 3 + 2) / 5\n",
    "basic_team[basic_drivers[predict_order[8]]['Team']]['score'] += (3 + 3 + 3 + 3 + 2) / 5\n",
    "\n",
    "basic_drivers[predict_order[9]]['score'] += (3 + 3 + 3 + 2 + 2) / 5\n",
    "basic_team[basic_drivers[predict_order[9]]['Team']]['score'] += (3 + 3 + 3 + 2 + 2) / 5\n",
    "\n",
    "basic_drivers[predict_order[10]]['score'] += (3 + 3 + 3 + 2 + 2 + 2 + 2) / 7\n",
    "basic_team[basic_drivers[predict_order[10]]['Team']]['score'] += (3 + 3 + 3 + 2 + 2 + 2 + 2) / 7\n",
    "\n",
    "basic_drivers[predict_order[11]]['score'] += (3 + 3 + 2 + 2 + 2 + 2 + 2) / 7\n",
    "basic_team[basic_drivers[predict_order[11]]['Team']]['score'] += (3 + 3 + 2 + 2 + 2 + 2 + 2) / 7\n",
    "\n",
    "basic_drivers[predict_order[12]]['score'] += (3 + 2 + 2 + 2 + 2 + 2 + 1) / 7\n",
    "basic_team[basic_drivers[predict_order[12]]['Team']]['score'] += (3 + 2 + 2 + 2 + 2 + 2 + 1) / 7\n",
    "\n",
    "basic_drivers[predict_order[13]]['score'] += (2 + 2 + 2 + 2 + 2 + 1 + 1) / 7\n",
    "basic_team[basic_drivers[predict_order[13]]['Team']]['score'] += (2 + 2 + 2 + 2 + 2 + 1 + 1) / 7\n",
    "\n",
    "basic_drivers[predict_order[14]]['score'] += (2 + 2 + 2 + 2 + 1 + 1 + 1) / 7\n",
    "basic_team[basic_drivers[predict_order[14]]['Team']]['score'] += (2 + 2 + 2 + 2 + 1 + 1 + 1) / 7\n",
    "\n",
    "basic_drivers[predict_order[15]]['score'] += (2 + 2 + 1 + 1 + 1 + 1) / 6\n",
    "basic_team[basic_drivers[predict_order[15]]['Team']]['score'] += (2 + 2 + 1 + 1 + 1 + 1) / 6\n",
    "\n",
    "basic_drivers[predict_order[16]]['score'] += (2 + 1 + 1 + 1 + 1 + 1) / 6\n",
    "basic_team[basic_drivers[predict_order[16]]['Team']]['score'] += (2 + 1 + 1 + 1 + 1 + 1) / 6"
   ]
  },
  {
   "cell_type": "code",
   "execution_count": null,
   "metadata": {},
   "outputs": [],
   "source": []
  },
  {
   "cell_type": "markdown",
   "metadata": {},
   "source": [
    "# 2. Qualified ahead of team mate (driver only)"
   ]
  },
  {
   "cell_type": "code",
   "execution_count": 7,
   "metadata": {},
   "outputs": [],
   "source": [
    "def calc_prob_of_q_ahead(first_driver_place,\n",
    "                         second_driver_place):\n",
    "    \"\"\"\n",
    "    \n",
    "    \"\"\"\n",
    "    \n",
    "    first_places = potential_places[first_driver_place]\n",
    "    second_places = potential_places[second_driver_place]\n",
    "\n",
    "    general_positions = list()\n",
    "\n",
    "    for val1 in first_places:\n",
    "        for val2 in second_places:\n",
    "            general_positions.append((val1, val2))\n",
    "            \n",
    "            \n",
    "    if first_driver_place < second_driver_place:\n",
    "        return sum([1.0 for (val1, val2) in general_positions if val1 <= val2]) / len(general_positions)\n",
    "    else:\n",
    "        return sum([1.0 for (val1, val2) in general_positions if val1 < val2]) / len(general_positions)"
   ]
  },
  {
   "cell_type": "code",
   "execution_count": 8,
   "metadata": {},
   "outputs": [],
   "source": [
    "potential_places = [[1, 2]]\n",
    "for i in range(1, 5):\n",
    "    potential_places.append([i, i + 1, i + 2])\n",
    "    \n",
    "for i in range(5, 10):\n",
    "    potential_places.append([i - 1, i,  i + 1, i + 2, i + 3])\n",
    "    \n",
    "    \n",
    "for i in range(10, 15):\n",
    "    potential_places.append([i - 2, i - 1, i,  i + 1, i + 2, i + 3, i + 4])\n",
    "    \n",
    "    \n",
    "for i in range(15, 20):\n",
    "    vals = [i - 1, i,  i + 1, i + 2, i + 3, i + 4] \n",
    "    vals = [val for val in vals if val <= 20.0]\n",
    "    potential_places.append(vals)"
   ]
  },
  {
   "cell_type": "code",
   "execution_count": 9,
   "metadata": {},
   "outputs": [],
   "source": [
    "for i, driver in enumerate(predict_order):\n",
    "    team_name = basic_drivers[driver]['Team']\n",
    "    team_mate = [val for val in basic_team[team_name]['drivers'] if val != driver][0]\n",
    "    place = [i for i, val in enumerate(predict_order) if team_mate == val][0]\n",
    "    \n",
    "    basic_drivers[driver]['score'] += calc_prob_of_q_ahead(i, place) * 2"
   ]
  },
  {
   "cell_type": "code",
   "execution_count": null,
   "metadata": {},
   "outputs": [],
   "source": []
  },
  {
   "cell_type": "code",
   "execution_count": null,
   "metadata": {},
   "outputs": [],
   "source": []
  },
  {
   "cell_type": "code",
   "execution_count": null,
   "metadata": {},
   "outputs": [],
   "source": []
  },
  {
   "cell_type": "markdown",
   "metadata": {},
   "source": [
    "# 3. Did not qualify (driver only) (руками)"
   ]
  },
  {
   "cell_type": "code",
   "execution_count": 10,
   "metadata": {},
   "outputs": [],
   "source": [
    "basic_drivers['Y. Tsunoda']['score'] -= 0.25\n",
    "basic_drivers['M. Schumacher']['score'] -= 0.25\n",
    "basic_drivers['N. Mazepin']['score'] -= 0.25"
   ]
  },
  {
   "cell_type": "code",
   "execution_count": null,
   "metadata": {},
   "outputs": [],
   "source": []
  },
  {
   "cell_type": "markdown",
   "metadata": {},
   "source": [
    "# 4. Qualifying Position Bonuses"
   ]
  },
  {
   "cell_type": "code",
   "execution_count": 11,
   "metadata": {},
   "outputs": [],
   "source": [
    "scores = [max(10 - i, 0) for i in range(20)]\n",
    "\n",
    "\n",
    "basic_drivers[predict_order[0]]['score'] += 9.5\n",
    "basic_team[basic_drivers[predict_order[0]]['Team']]['score'] += 9.5\n",
    "\n",
    "for i in range(1, 9):\n",
    "    basic_drivers[predict_order[i]]['score'] += 10 - i\n",
    "    basic_team[basic_drivers[predict_order[i]]['Team']]['score'] += 10 - i\n",
    "    \n",
    "    \n",
    "basic_drivers[predict_order[9]]['score'] += 1.2\n",
    "basic_team[basic_drivers[predict_order[9]]['Team']]['score'] += 1.2\n",
    "\n",
    "basic_drivers[predict_order[10]]['score'] += 0.75\n",
    "basic_team[basic_drivers[predict_order[10]]['Team']]['score'] += 0.75\n",
    "\n",
    "basic_drivers[predict_order[11]]['score'] += 0.375\n",
    "basic_team[basic_drivers[predict_order[11]]['Team']]['score'] += 0.375\n",
    "\n",
    "\n",
    "basic_drivers[predict_order[12]]['score'] += 0.125\n",
    "basic_team[basic_drivers[predict_order[12]]['Team']]['score'] += 0.125"
   ]
  },
  {
   "cell_type": "code",
   "execution_count": null,
   "metadata": {},
   "outputs": [],
   "source": []
  },
  {
   "cell_type": "markdown",
   "metadata": {},
   "source": [
    "# 5. Finished Race  (руками)"
   ]
  },
  {
   "cell_type": "code",
   "execution_count": 12,
   "metadata": {},
   "outputs": [],
   "source": [
    "# нужны предположения что кто-то может не финишировать\n",
    "\n",
    "for driver in basic_drivers:\n",
    "    basic_drivers[driver]['score'] += 1.0\n",
    "    \n",
    "    \n",
    "for team in basic_team:\n",
    "    basic_team[team]['score'] += 2.0"
   ]
  },
  {
   "cell_type": "code",
   "execution_count": null,
   "metadata": {},
   "outputs": [],
   "source": []
  },
  {
   "cell_type": "markdown",
   "metadata": {},
   "source": [
    "# 7. Finished ahead of team mate (driver only) (проверить размеры интервалов)"
   ]
  },
  {
   "cell_type": "code",
   "execution_count": 13,
   "metadata": {},
   "outputs": [],
   "source": [
    "potential_places = [[1, 2, 3]]\n",
    "potential_places.append([1, 2, 3, 4])\n",
    "for i in range(2, 5):\n",
    "    potential_places.append([i - 1, i, i + 1, i + 2, i + 3])\n",
    "    \n",
    "for i in range(5, 10):\n",
    "    potential_places.append([i - 2, i - 1, i,  i + 1, i + 2, i + 3, i + 4])\n",
    "    \n",
    "    \n",
    "for i in range(10, 15):\n",
    "    potential_places.append([i - 3, i - 2, i - 1, i,  i + 1, i + 2, i + 3, i + 4, i + 5])\n",
    "    \n",
    "    \n",
    "for i in range(15, 20):\n",
    "    vals = [i - 2, i - 1, i,  i + 1, i + 2, i + 3, i + 4, i + 5] \n",
    "    vals = [val for val in vals if val <= 20.0]\n",
    "    potential_places.append(vals)"
   ]
  },
  {
   "cell_type": "code",
   "execution_count": 14,
   "metadata": {},
   "outputs": [],
   "source": [
    "for i, driver in enumerate(predict_order):\n",
    "    team_name = basic_drivers[driver]['Team']\n",
    "    team_mate = [val for val in basic_team[team_name]['drivers'] if val != driver][0]\n",
    "    place = [i for i, val in enumerate(predict_order) if team_mate == val][0]\n",
    "    \n",
    "    basic_drivers[driver]['score'] += calc_prob_of_q_ahead(i, place) * 3"
   ]
  },
  {
   "cell_type": "code",
   "execution_count": null,
   "metadata": {},
   "outputs": [],
   "source": []
  },
  {
   "cell_type": "markdown",
   "metadata": {},
   "source": [
    "# 8. Fastest lap (driver only) (руками)"
   ]
  },
  {
   "cell_type": "code",
   "execution_count": 15,
   "metadata": {},
   "outputs": [],
   "source": [
    "basic_drivers['L. Hamilton']['score'] += 5 * (9 / 17)\n",
    "basic_drivers['V. Bottas']['score'] += 5 * (9 / 17)\n",
    "\n",
    "basic_drivers['M. Verstappen']['score'] += 5 * (3 / 17)\n",
    "basic_drivers['S. Perez']['score'] += 5 * (3 / 17)\n",
    "\n",
    "basic_drivers['L. Norris']['score'] += 5 * (3 / 17)\n",
    "basic_drivers['D. Riccardo']['score'] += 5 * (3 / 17)\n",
    "\n",
    "basic_drivers['E. Ocon']['score'] += 5 * (1 / 17)\n",
    "basic_drivers['F. Alonso']['score'] += 5 * (1 / 17)\n",
    "\n",
    "basic_drivers['C. Leclerc']['score'] += 5 * (1 / 17)\n",
    "basic_drivers['C. Saintz J.']['score'] += 5 * (1 / 17)"
   ]
  },
  {
   "cell_type": "code",
   "execution_count": null,
   "metadata": {},
   "outputs": [],
   "source": []
  },
  {
   "cell_type": "markdown",
   "metadata": {},
   "source": [
    "# 6. Finished race, position gained (per place gained, max. +10 pts) (Добавить сходы)"
   ]
  },
  {
   "cell_type": "markdown",
   "metadata": {},
   "source": [
    "# 9. Started race within Top 10, finished race but lost position (per place lost, max. -10 pts)"
   ]
  },
  {
   "cell_type": "markdown",
   "metadata": {},
   "source": [
    "# 10. Started race outside Top 10, finished race but lost position (per place lost, max. -5 pts)"
   ]
  },
  {
   "cell_type": "code",
   "execution_count": 16,
   "metadata": {},
   "outputs": [],
   "source": [
    "for driver, x in zip(predict_order, potential_places):\n",
    "    total_balance = 0.0\n",
    "\n",
    "    for val in x:\n",
    "        earn_pos = min(val - x[0], 5)\n",
    "        loss_pos = min(x[-1]-val, 5)\n",
    "\n",
    "        if val > 10:\n",
    "            balance = 2 * earn_pos - loss_pos\n",
    "        else:\n",
    "            balance = 2 * (earn_pos - loss_pos)\n",
    "\n",
    "        total_balance += balance\n",
    "\n",
    "    basic_drivers[driver]['score'] += total_balance / len(x)\n",
    "    basic_team[basic_drivers[driver]['Team']]['score'] += total_balance / len(x)"
   ]
  },
  {
   "cell_type": "code",
   "execution_count": null,
   "metadata": {},
   "outputs": [],
   "source": []
  },
  {
   "cell_type": "code",
   "execution_count": null,
   "metadata": {},
   "outputs": [],
   "source": []
  },
  {
   "cell_type": "markdown",
   "metadata": {},
   "source": [
    "# 11. Not classified (driver only) (руками)"
   ]
  },
  {
   "cell_type": "code",
   "execution_count": null,
   "metadata": {},
   "outputs": [],
   "source": []
  },
  {
   "cell_type": "code",
   "execution_count": null,
   "metadata": {},
   "outputs": [],
   "source": []
  },
  {
   "cell_type": "markdown",
   "metadata": {},
   "source": [
    "# 12. Finishing Position Bonuses"
   ]
  },
  {
   "cell_type": "code",
   "execution_count": 17,
   "metadata": {},
   "outputs": [],
   "source": [
    "points = [25, 18, 15, 12, 10, 8, 6, 4, 2, 1, 0, 0, 0, 0, 0, 0, 0, 0, 0, 0]\n",
    "points = np.array(points)\n",
    "\n",
    "\n",
    "for driver, x in zip(predict_order, potential_places):\n",
    "    basic_drivers[driver]['score'] += sum([points[i - 1] for i in x]) / len(x)\n",
    "    basic_team[basic_drivers[driver]['Team']]['score'] += sum([points[i - 1] for i in x]) / len(x)"
   ]
  },
  {
   "cell_type": "code",
   "execution_count": null,
   "metadata": {},
   "outputs": [],
   "source": []
  },
  {
   "cell_type": "markdown",
   "metadata": {},
   "source": [
    "# 13. Streaks (Руками)"
   ]
  },
  {
   "cell_type": "markdown",
   "metadata": {},
   "source": [
    "## 13.1 Driver Qualifying - driver qualifies in Top 10 for 5 races in a row"
   ]
  },
  {
   "cell_type": "code",
   "execution_count": null,
   "metadata": {},
   "outputs": [],
   "source": []
  },
  {
   "cell_type": "markdown",
   "metadata": {},
   "source": [
    "## 13.2 Driver Race - driver finishes race in Top 10 for 5 races in a row"
   ]
  },
  {
   "cell_type": "code",
   "execution_count": null,
   "metadata": {},
   "outputs": [],
   "source": []
  },
  {
   "cell_type": "markdown",
   "metadata": {},
   "source": [
    "## 13.3 Constructor Qualifying - both drivers qualify in Top 10 for 3 races in a row"
   ]
  },
  {
   "cell_type": "code",
   "execution_count": null,
   "metadata": {},
   "outputs": [],
   "source": []
  },
  {
   "cell_type": "markdown",
   "metadata": {},
   "source": [
    "## 13.4 Constructor Race - both drivers finish race in Top 10 for 3 races in a row"
   ]
  },
  {
   "cell_type": "code",
   "execution_count": null,
   "metadata": {},
   "outputs": [],
   "source": []
  },
  {
   "cell_type": "code",
   "execution_count": null,
   "metadata": {},
   "outputs": [],
   "source": []
  },
  {
   "cell_type": "code",
   "execution_count": 18,
   "metadata": {},
   "outputs": [
    {
     "name": "stdout",
     "output_type": "stream",
     "text": [
      "L. Hamilton 31.769\n",
      "M. Verstappen 38.716\n",
      "L. Norris 20.025\n",
      "C. Leclerc 24.237\n",
      "V. Bottas 37.025\n",
      "C. Saintz J. 18.694\n",
      "D. Riccardo 6.486\n",
      "S. Perez 12.311\n",
      "P. Gasly 28.6\n",
      "L. Stroll 11.734\n",
      "Y. Tsunoda 8.693\n",
      "E. Ocon 6.342\n",
      "F. Alonso 12.237\n",
      "K. Raikkonen 5.167\n",
      "A. Giovinazzi 10.962\n",
      "G. Russel 6.018\n",
      "S. Vettel 4.5\n",
      "M. Schumacher 7.35\n",
      "N. Mazepin 4.65\n",
      "N. Latifi 10.121\n"
     ]
    }
   ],
   "source": [
    "for driver in basic_drivers:\n",
    "    print(driver, round(basic_drivers[driver]['score'], 3))"
   ]
  },
  {
   "cell_type": "code",
   "execution_count": 19,
   "metadata": {},
   "outputs": [
    {
     "name": "stdout",
     "output_type": "stream",
     "text": [
      "Mercedes 58.5\n",
      "Red Bull 44.262\n",
      "Ferrari 37.343\n",
      "McLaren 19.746\n",
      "Aston Martin 11.234\n",
      "Alpine 12.99\n",
      "AlphaTauri 32.543\n",
      "Alfa Romeo 11.129\n",
      "Williams 11.139\n",
      "Haas 7.5\n"
     ]
    }
   ],
   "source": [
    "for team in basic_team:\n",
    "    print(team, round(basic_team[team]['score'], 3))"
   ]
  },
  {
   "cell_type": "code",
   "execution_count": null,
   "metadata": {},
   "outputs": [],
   "source": []
  }
 ],
 "metadata": {
  "kernelspec": {
   "display_name": "Python 3",
   "language": "python",
   "name": "python3"
  },
  "language_info": {
   "codemirror_mode": {
    "name": "ipython",
    "version": 3
   },
   "file_extension": ".py",
   "mimetype": "text/x-python",
   "name": "python",
   "nbconvert_exporter": "python",
   "pygments_lexer": "ipython3",
   "version": "3.7.6"
  }
 },
 "nbformat": 4,
 "nbformat_minor": 4
}
